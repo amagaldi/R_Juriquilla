{
 "cells": [
  {
   "cell_type": "markdown",
   "metadata": {},
   "source": [
    "# Taller de introducción a R usando scripts\t"
   ]
  },
  {
   "cell_type": "markdown",
   "metadata": {},
   "source": []
  },
  {
   "cell_type": "markdown",
   "metadata": {},
   "source": [
    "Contenido \n",
    "\n",
    "     0. Preliminares                                                                       \n",
    "     1.\tR como calculadora                                                                  \n",
    "     2.\tObjetos y funciones                                                                  \n",
    "     3.\tPaquetes y librerías                                                                \n",
    "     4.\tDatos importar/exportar                                                             \n",
    "     5.\tSubscripts                                                                          \n",
    "     6.\tRecodificación de variables                                                         \n",
    "     7.\tReducir y combinar bases de datos                                                   \n",
    "     8.\tGráficos                                                                            \n",
    "     9.\tEstadísticas uni/bivariadas"
   ]
  },
  {
   "cell_type": "markdown",
   "metadata": {},
   "source": [
    "### Preliminares"
   ]
  },
  {
   "cell_type": "markdown",
   "metadata": {},
   "source": [
    "Los 'scripts' en R equivalen a los 'do' de Stata y a las Syntax de SPSS\n",
    "\n",
    "El signo de '#' se usa para hacer comentarios en los scripts (lo cual es muy recomendable)\n",
    "\n",
    "Para ejecutar un comando se ubica al cursor en la línea o se selecciona un conjunto de\n",
    "líneas y se oprimen las teclas <Ctrl> + <R>\n",
    "\n",
    "\n",
    " El R-project se gestiona con recursos provenientes de donaciones, apoyos y subvenciones, por\n",
    " lo que se insta a los usuarios a que le den el crédito cuando se haya utilizado el programa"
   ]
  },
  {
   "cell_type": "code",
   "execution_count": 1,
   "metadata": {},
   "outputs": [
    {
     "data": {
      "text/plain": [
       "\n",
       "To cite R in publications use:\n",
       "\n",
       "  R Core Team (2016). R: A language and environment for statistical\n",
       "  computing. R Foundation for Statistical Computing, Vienna, Austria.\n",
       "  URL https://www.R-project.org/.\n",
       "\n",
       "A BibTeX entry for LaTeX users is\n",
       "\n",
       "  @Manual{,\n",
       "    title = {R: A Language and Environment for Statistical Computing},\n",
       "    author = {{R Core Team}},\n",
       "    organization = {R Foundation for Statistical Computing},\n",
       "    address = {Vienna, Austria},\n",
       "    year = {2016},\n",
       "    url = {https://www.R-project.org/},\n",
       "  }\n",
       "\n",
       "We have invested a lot of time and effort in creating R, please cite it\n",
       "when using it for data analysis. See also ‘citation(\"pkgname\")’ for\n",
       "citing R packages.\n"
      ]
     },
     "metadata": {},
     "output_type": "display_data"
    }
   ],
   "source": [
    "citation()"
   ]
  },
  {
   "cell_type": "markdown",
   "metadata": {},
   "source": [
    "Notar que en la consola (Console) se despliga el resultado de la ejecución del comando\n",
    "\n",
    "Los simbolos ' > | ' al final de la consola significan que se ha ejecutado exitosamente el \n",
    "comando. \n",
    "\n",
    "Un ' + ' al final de la consola es indicativo de que el comando ejecutado está incompleto.\n",
    "Esto normalmente ocurre cuando no se cierra un parétesis o un corchete."
   ]
  },
  {
   "cell_type": "code",
   "execution_count": 3,
   "metadata": {},
   "outputs": [
    {
     "ename": "ERROR",
     "evalue": "Error in parse(text = x, srcfile = src): <text>:2:0: unexpected end of input\n1: citation(\n   ^\n",
     "output_type": "error",
     "traceback": [
      "Error in parse(text = x, srcfile = src): <text>:2:0: unexpected end of input\n1: citation(\n   ^\nTraceback:\n"
     ]
    }
   ],
   "source": [
    "citation("
   ]
  },
  {
   "cell_type": "code",
   "execution_count": null,
   "metadata": {
    "collapsed": true
   },
   "outputs": [],
   "source": [
    "Si se cometí un error, ubicarse en la consola y oprimir <Esc>\n",
    "  \n",
    "Para obtener ayuda (Help):\n",
    "Google\n",
    "Si se conoce el nombre de la función, anteponer ' ? ' a dicha función"
   ]
  },
  {
   "cell_type": "code",
   "execution_count": 4,
   "metadata": {
    "collapsed": true
   },
   "outputs": [],
   "source": [
    " ?citation"
   ]
  },
  {
   "cell_type": "markdown",
   "metadata": {},
   "source": [
    "Una ayuda más escueta se obtiene al oprimir <Tab> al final del nombre de la función\n",
    "Solo funciona en RStudio"
   ]
  },
  {
   "cell_type": "markdown",
   "metadata": {},
   "source": [
    "También se puede utilizar la función help()"
   ]
  },
  {
   "cell_type": "code",
   "execution_count": 8,
   "metadata": {
    "collapsed": true
   },
   "outputs": [],
   "source": [
    "help(\"citation\")"
   ]
  },
  {
   "cell_type": "code",
   "execution_count": 6,
   "metadata": {
    "collapsed": true
   },
   "outputs": [],
   "source": [
    "help(\"!=\") # Muestra la ayuda para el caracter !="
   ]
  },
  {
   "cell_type": "markdown",
   "metadata": {},
   "source": [
    "Si no se recuerda el nombre de la función, pero se sabe el tema sobre el que se desea \n",
    "obtener ayuda, utilizar la función help.search(\"tema\")"
   ]
  },
  {
   "cell_type": "code",
   "execution_count": 10,
   "metadata": {},
   "outputs": [
    {
     "data": {},
     "metadata": {},
     "output_type": "display_data"
    }
   ],
   "source": [
    "help.search(\"citing R\")"
   ]
  },
  {
   "cell_type": "markdown",
   "metadata": {},
   "source": [
    "Directorio de trabajo  \n",
    "\n",
    "La función getwd() nos dice dónde está el directorio de trabajo actual"
   ]
  },
  {
   "cell_type": "code",
   "execution_count": 11,
   "metadata": {},
   "outputs": [
    {
     "data": {
      "text/html": [
       "'/Users/amagaldi/Google Drive/Taller_R'"
      ],
      "text/latex": [
       "'/Users/amagaldi/Google Drive/Taller\\_R'"
      ],
      "text/markdown": [
       "'/Users/amagaldi/Google Drive/Taller_R'"
      ],
      "text/plain": [
       "[1] \"/Users/amagaldi/Google Drive/Taller_R\""
      ]
     },
     "metadata": {},
     "output_type": "display_data"
    }
   ],
   "source": [
    "getwd() "
   ]
  },
  {
   "cell_type": "markdown",
   "metadata": {},
   "source": [
    "Si deseo cambiar, digamos a la carpeta Intro_R del escritorio, utilizo la función setwd() \n",
    "y entre comillas pongo la ruta"
   ]
  },
  {
   "cell_type": "code",
   "execution_count": 12,
   "metadata": {
    "collapsed": true
   },
   "outputs": [],
   "source": [
    "setwd(\"/Users/amagaldi/Google Drive/Taller_R/\")"
   ]
  },
  {
   "cell_type": "markdown",
   "metadata": {},
   "source": [
    "esto es en windows\n",
    "setwd(\"?????\")\n",
    "\n",
    "en linux es algo así como:\n",
    "setwd(\"/home/amagaldi/Desktop/Intro_R\") "
   ]
  },
  {
   "cell_type": "markdown",
   "metadata": {},
   "source": [
    "### R como calculadora"
   ]
  },
  {
   "cell_type": "code",
   "execution_count": 1,
   "metadata": {},
   "outputs": [
    {
     "data": {
      "text/html": [
       "5"
      ],
      "text/latex": [
       "5"
      ],
      "text/markdown": [
       "5"
      ],
      "text/plain": [
       "[1] 5"
      ]
     },
     "metadata": {},
     "output_type": "display_data"
    }
   ],
   "source": [
    "2 + 3"
   ]
  },
  {
   "cell_type": "code",
   "execution_count": 2,
   "metadata": {},
   "outputs": [
    {
     "data": {
      "text/html": [
       "-1"
      ],
      "text/latex": [
       "-1"
      ],
      "text/markdown": [
       "-1"
      ],
      "text/plain": [
       "[1] -1"
      ]
     },
     "metadata": {},
     "output_type": "display_data"
    }
   ],
   "source": [
    "5 - 6"
   ]
  },
  {
   "cell_type": "code",
   "execution_count": 3,
   "metadata": {},
   "outputs": [
    {
     "data": {
      "text/html": [
       "6"
      ],
      "text/latex": [
       "6"
      ],
      "text/markdown": [
       "6"
      ],
      "text/plain": [
       "[1] 6"
      ]
     },
     "metadata": {},
     "output_type": "display_data"
    }
   ],
   "source": [
    "2 * 3"
   ]
  },
  {
   "cell_type": "code",
   "execution_count": 4,
   "metadata": {},
   "outputs": [
    {
     "data": {
      "text/html": [
       "0.428571428571429"
      ],
      "text/latex": [
       "0.428571428571429"
      ],
      "text/markdown": [
       "0.428571428571429"
      ],
      "text/plain": [
       "[1] 0.4285714"
      ]
     },
     "metadata": {},
     "output_type": "display_data"
    }
   ],
   "source": [
    "3/7"
   ]
  },
  {
   "cell_type": "code",
   "execution_count": 5,
   "metadata": {},
   "outputs": [
    {
     "data": {
      "text/html": [
       "8"
      ],
      "text/latex": [
       "8"
      ],
      "text/markdown": [
       "8"
      ],
      "text/plain": [
       "[1] 8"
      ]
     },
     "metadata": {},
     "output_type": "display_data"
    }
   ],
   "source": [
    "2^3"
   ]
  },
  {
   "cell_type": "code",
   "execution_count": 6,
   "metadata": {},
   "outputs": [
    {
     "data": {
      "text/html": [
       "0.125"
      ],
      "text/latex": [
       "0.125"
      ],
      "text/markdown": [
       "0.125"
      ],
      "text/plain": [
       "[1] 0.125"
      ]
     },
     "metadata": {},
     "output_type": "display_data"
    }
   ],
   "source": [
    "2^-3"
   ]
  },
  {
   "cell_type": "markdown",
   "metadata": {},
   "source": [
    "Dos o más expresiones se pueden colocar en una sola línea, siempre y cuando estén separadas\n",
    "por punto y coma "
   ]
  },
  {
   "cell_type": "code",
   "execution_count": 9,
   "metadata": {},
   "outputs": [
    {
     "data": {
      "text/html": [
       "5"
      ],
      "text/latex": [
       "5"
      ],
      "text/markdown": [
       "5"
      ],
      "text/plain": [
       "[1] 5"
      ]
     },
     "metadata": {},
     "output_type": "display_data"
    },
    {
     "data": {
      "text/html": [
       "35"
      ],
      "text/latex": [
       "35"
      ],
      "text/markdown": [
       "35"
      ],
      "text/plain": [
       "[1] 35"
      ]
     },
     "metadata": {},
     "output_type": "display_data"
    },
    {
     "data": {
      "text/html": [
       "-4"
      ],
      "text/latex": [
       "-4"
      ],
      "text/markdown": [
       "-4"
      ],
      "text/plain": [
       "[1] -4"
      ]
     },
     "metadata": {},
     "output_type": "display_data"
    },
    {
     "data": {
      "text/html": [
       "1"
      ],
      "text/latex": [
       "1"
      ],
      "text/markdown": [
       "1"
      ],
      "text/plain": [
       "[1] 1"
      ]
     },
     "metadata": {},
     "output_type": "display_data"
    },
    {
     "data": {
      "text/html": [
       "1024"
      ],
      "text/latex": [
       "1024"
      ],
      "text/markdown": [
       "1024"
      ],
      "text/plain": [
       "[1] 1024"
      ]
     },
     "metadata": {},
     "output_type": "display_data"
    }
   ],
   "source": [
    "2+3; 5*7; 3-7 ; 2/2 ; 2^10"
   ]
  },
  {
   "cell_type": "markdown",
   "metadata": {},
   "source": [
    "#### Operadores"
   ]
  },
  {
   "cell_type": "code",
   "execution_count": null,
   "metadata": {
    "collapsed": true
   },
   "outputs": [],
   "source": [
    "+, -, *, /, ^  son operadores aritméticos\n",
    "  \n",
    ">, >=, <, <=, ==, !=, son operadores relacionales\n",
    "  \n",
    "!, &, |, lógicos\n",
    "  \n",
    ": , crean una secuencia"
   ]
  },
  {
   "cell_type": "code",
   "execution_count": null,
   "metadata": {
    "collapsed": true
   },
   "outputs": [],
   "source": [
    "1:40"
   ]
  },
  {
   "cell_type": "markdown",
   "metadata": {},
   "source": [
    "#### Objectos en R"
   ]
  },
  {
   "cell_type": "markdown",
   "metadata": {},
   "source": [
    "El signo  ' <- ' asigna valores a objetos\n",
    "\n",
    "Valores numéricos"
   ]
  },
  {
   "cell_type": "code",
   "execution_count": 10,
   "metadata": {
    "collapsed": true
   },
   "outputs": [],
   "source": [
    " x <- 20"
   ]
  },
  {
   "cell_type": "code",
   "execution_count": 11,
   "metadata": {
    "collapsed": true
   },
   "outputs": [],
   "source": [
    " y <- 49"
   ]
  },
  {
   "cell_type": "code",
   "execution_count": 12,
   "metadata": {},
   "outputs": [
    {
     "data": {
      "text/html": [
       "25"
      ],
      "text/latex": [
       "25"
      ],
      "text/markdown": [
       "25"
      ],
      "text/plain": [
       "[1] 25"
      ]
     },
     "metadata": {},
     "output_type": "display_data"
    }
   ],
   "source": [
    "x + 5"
   ]
  },
  {
   "cell_type": "code",
   "execution_count": 13,
   "metadata": {},
   "outputs": [
    {
     "data": {
      "text/html": [
       "69"
      ],
      "text/latex": [
       "69"
      ],
      "text/markdown": [
       "69"
      ],
      "text/plain": [
       "[1] 69"
      ]
     },
     "metadata": {},
     "output_type": "display_data"
    }
   ],
   "source": [
    "x + y"
   ]
  },
  {
   "cell_type": "markdown",
   "metadata": {},
   "source": [
    "Caracteres"
   ]
  },
  {
   "cell_type": "code",
   "execution_count": 21,
   "metadata": {
    "collapsed": true
   },
   "outputs": [],
   "source": [
    "aqui <- \"Juriquilla\" ; mejor<- \" UMDI\""
   ]
  },
  {
   "cell_type": "code",
   "execution_count": 22,
   "metadata": {},
   "outputs": [
    {
     "data": {
      "text/html": [
       "'Juriquilla'"
      ],
      "text/latex": [
       "'Juriquilla'"
      ],
      "text/markdown": [
       "'Juriquilla'"
      ],
      "text/plain": [
       "[1] \"Juriquilla\""
      ]
     },
     "metadata": {},
     "output_type": "display_data"
    },
    {
     "data": {
      "text/html": [
       "' UMDI'"
      ],
      "text/latex": [
       "' UMDI'"
      ],
      "text/markdown": [
       "' UMDI'"
      ],
      "text/plain": [
       "[1] \" UMDI\""
      ]
     },
     "metadata": {},
     "output_type": "display_data"
    }
   ],
   "source": [
    " aqui ;mejor"
   ]
  },
  {
   "cell_type": "code",
   "execution_count": null,
   "metadata": {
    "collapsed": true
   },
   "outputs": [],
   "source": [
    "Ejercicio \n",
    "¿Cuál es la función para borrar objetos de la memoria de R? \n",
    "Usarla para borrar los objetos 'x' y 'y'"
   ]
  },
  {
   "cell_type": "markdown",
   "metadata": {},
   "source": [
    " Vectores\n",
    "\n",
    "Objetos que contienen varios valores\n",
    "  \n",
    "Vectores numéricos"
   ]
  },
  {
   "cell_type": "code",
   "execution_count": 23,
   "metadata": {
    "collapsed": true
   },
   "outputs": [],
   "source": [
    "altura <- c(167, 172, 153, 164, 182, 167, 171, 155, 163, 170)"
   ]
  },
  {
   "cell_type": "code",
   "execution_count": 30,
   "metadata": {},
   "outputs": [
    {
     "data": {
      "text/html": [
       "<ol class=list-inline>\n",
       "\t<li>167</li>\n",
       "\t<li>172</li>\n",
       "\t<li>153</li>\n",
       "\t<li>164</li>\n",
       "\t<li>182</li>\n",
       "\t<li>167</li>\n",
       "\t<li>171</li>\n",
       "\t<li>155</li>\n",
       "\t<li>163</li>\n",
       "\t<li>170</li>\n",
       "</ol>\n"
      ],
      "text/latex": [
       "\\begin{enumerate*}\n",
       "\\item 167\n",
       "\\item 172\n",
       "\\item 153\n",
       "\\item 164\n",
       "\\item 182\n",
       "\\item 167\n",
       "\\item 171\n",
       "\\item 155\n",
       "\\item 163\n",
       "\\item 170\n",
       "\\end{enumerate*}\n"
      ],
      "text/markdown": [
       "1. 167\n",
       "2. 172\n",
       "3. 153\n",
       "4. 164\n",
       "5. 182\n",
       "6. 167\n",
       "7. 171\n",
       "8. 155\n",
       "9. 163\n",
       "10. 170\n",
       "\n",
       "\n"
      ],
      "text/plain": [
       " [1] 167 172 153 164 182 167 171 155 163 170"
      ]
     },
     "metadata": {},
     "output_type": "display_data"
    }
   ],
   "source": [
    "altura"
   ]
  },
  {
   "cell_type": "code",
   "execution_count": 28,
   "metadata": {
    "collapsed": true
   },
   "outputs": [],
   "source": [
    "altura79 <- altura[7:9]"
   ]
  },
  {
   "cell_type": "code",
   "execution_count": 29,
   "metadata": {},
   "outputs": [
    {
     "data": {
      "text/html": [
       "<ol class=list-inline>\n",
       "\t<li>167</li>\n",
       "\t<li>172</li>\n",
       "\t<li>153</li>\n",
       "</ol>\n"
      ],
      "text/latex": [
       "\\begin{enumerate*}\n",
       "\\item 167\n",
       "\\item 172\n",
       "\\item 153\n",
       "\\end{enumerate*}\n"
      ],
      "text/markdown": [
       "1. 167\n",
       "2. 172\n",
       "3. 153\n",
       "\n",
       "\n"
      ],
      "text/plain": [
       "[1] 167 172 153"
      ]
     },
     "metadata": {},
     "output_type": "display_data"
    }
   ],
   "source": [
    "altura79"
   ]
  },
  {
   "cell_type": "code",
   "execution_count": 31,
   "metadata": {},
   "outputs": [
    {
     "data": {
      "text/html": [
       "<ol class=list-inline>\n",
       "\t<li>187</li>\n",
       "\t<li>192</li>\n",
       "\t<li>173</li>\n",
       "\t<li>184</li>\n",
       "\t<li>202</li>\n",
       "\t<li>187</li>\n",
       "\t<li>191</li>\n",
       "\t<li>175</li>\n",
       "\t<li>183</li>\n",
       "\t<li>190</li>\n",
       "</ol>\n"
      ],
      "text/latex": [
       "\\begin{enumerate*}\n",
       "\\item 187\n",
       "\\item 192\n",
       "\\item 173\n",
       "\\item 184\n",
       "\\item 202\n",
       "\\item 187\n",
       "\\item 191\n",
       "\\item 175\n",
       "\\item 183\n",
       "\\item 190\n",
       "\\end{enumerate*}\n"
      ],
      "text/markdown": [
       "1. 187\n",
       "2. 192\n",
       "3. 173\n",
       "4. 184\n",
       "5. 202\n",
       "6. 187\n",
       "7. 191\n",
       "8. 175\n",
       "9. 183\n",
       "10. 190\n",
       "\n",
       "\n"
      ],
      "text/plain": [
       " [1] 187 192 173 184 202 187 191 175 183 190"
      ]
     },
     "metadata": {},
     "output_type": "display_data"
    }
   ],
   "source": [
    "altura + 20"
   ]
  },
  {
   "cell_type": "code",
   "execution_count": 33,
   "metadata": {},
   "outputs": [
    {
     "data": {
      "text/html": [
       "<ol class=list-inline>\n",
       "\t<li>1.87</li>\n",
       "\t<li>1.92</li>\n",
       "\t<li>1.73</li>\n",
       "\t<li>1.84</li>\n",
       "\t<li>2.02</li>\n",
       "\t<li>1.87</li>\n",
       "\t<li>1.91</li>\n",
       "\t<li>1.75</li>\n",
       "\t<li>1.83</li>\n",
       "\t<li>1.9</li>\n",
       "</ol>\n"
      ],
      "text/latex": [
       "\\begin{enumerate*}\n",
       "\\item 1.87\n",
       "\\item 1.92\n",
       "\\item 1.73\n",
       "\\item 1.84\n",
       "\\item 2.02\n",
       "\\item 1.87\n",
       "\\item 1.91\n",
       "\\item 1.75\n",
       "\\item 1.83\n",
       "\\item 1.9\n",
       "\\end{enumerate*}\n"
      ],
      "text/markdown": [
       "1. 1.87\n",
       "2. 1.92\n",
       "3. 1.73\n",
       "4. 1.84\n",
       "5. 2.02\n",
       "6. 1.87\n",
       "7. 1.91\n",
       "8. 1.75\n",
       "9. 1.83\n",
       "10. 1.9\n",
       "\n",
       "\n"
      ],
      "text/plain": [
       " [1] 1.87 1.92 1.73 1.84 2.02 1.87 1.91 1.75 1.83 1.90"
      ]
     },
     "metadata": {},
     "output_type": "display_data"
    }
   ],
   "source": [
    "# Dividir cada observación por un número dado (pasar de cm a m)\n",
    "  \n",
    "(altura+20)/100"
   ]
  },
  {
   "cell_type": "code",
   "execution_count": 34,
   "metadata": {},
   "outputs": [
    {
     "data": {
      "text/html": [
       "<ol class=list-inline>\n",
       "\t<li>27889</li>\n",
       "\t<li>29584</li>\n",
       "\t<li>23409</li>\n",
       "\t<li>26896</li>\n",
       "\t<li>33124</li>\n",
       "\t<li>27889</li>\n",
       "\t<li>29241</li>\n",
       "\t<li>24025</li>\n",
       "\t<li>26569</li>\n",
       "\t<li>28900</li>\n",
       "</ol>\n"
      ],
      "text/latex": [
       "\\begin{enumerate*}\n",
       "\\item 27889\n",
       "\\item 29584\n",
       "\\item 23409\n",
       "\\item 26896\n",
       "\\item 33124\n",
       "\\item 27889\n",
       "\\item 29241\n",
       "\\item 24025\n",
       "\\item 26569\n",
       "\\item 28900\n",
       "\\end{enumerate*}\n"
      ],
      "text/markdown": [
       "1. 27889\n",
       "2. 29584\n",
       "3. 23409\n",
       "4. 26896\n",
       "5. 33124\n",
       "6. 27889\n",
       "7. 29241\n",
       "8. 24025\n",
       "9. 26569\n",
       "10. 28900\n",
       "\n",
       "\n"
      ],
      "text/plain": [
       " [1] 27889 29584 23409 26896 33124 27889 29241 24025 26569 28900"
      ]
     },
     "metadata": {},
     "output_type": "display_data"
    }
   ],
   "source": [
    "# Elevar cada observación a determinada potencia\n",
    "  \n",
    "altura^2"
   ]
  },
  {
   "cell_type": "code",
   "execution_count": 35,
   "metadata": {
    "collapsed": true
   },
   "outputs": [],
   "source": [
    "# Almacenar la altura en mts y en cm2 en un nuevo objeto\n",
    "  \n",
    "altura_mts <- altura/100"
   ]
  },
  {
   "cell_type": "code",
   "execution_count": 36,
   "metadata": {},
   "outputs": [
    {
     "data": {
      "text/html": [
       "<ol class=list-inline>\n",
       "\t<li>1.67</li>\n",
       "\t<li>1.72</li>\n",
       "\t<li>1.53</li>\n",
       "\t<li>1.64</li>\n",
       "\t<li>1.82</li>\n",
       "\t<li>1.67</li>\n",
       "\t<li>1.71</li>\n",
       "\t<li>1.55</li>\n",
       "\t<li>1.63</li>\n",
       "\t<li>1.7</li>\n",
       "</ol>\n"
      ],
      "text/latex": [
       "\\begin{enumerate*}\n",
       "\\item 1.67\n",
       "\\item 1.72\n",
       "\\item 1.53\n",
       "\\item 1.64\n",
       "\\item 1.82\n",
       "\\item 1.67\n",
       "\\item 1.71\n",
       "\\item 1.55\n",
       "\\item 1.63\n",
       "\\item 1.7\n",
       "\\end{enumerate*}\n"
      ],
      "text/markdown": [
       "1. 1.67\n",
       "2. 1.72\n",
       "3. 1.53\n",
       "4. 1.64\n",
       "5. 1.82\n",
       "6. 1.67\n",
       "7. 1.71\n",
       "8. 1.55\n",
       "9. 1.63\n",
       "10. 1.7\n",
       "\n",
       "\n"
      ],
      "text/plain": [
       " [1] 1.67 1.72 1.53 1.64 1.82 1.67 1.71 1.55 1.63 1.70"
      ]
     },
     "metadata": {},
     "output_type": "display_data"
    }
   ],
   "source": [
    "altura_mts"
   ]
  },
  {
   "cell_type": "code",
   "execution_count": 37,
   "metadata": {
    "collapsed": true
   },
   "outputs": [],
   "source": [
    "altura_cm2 <- altura^2 "
   ]
  },
  {
   "cell_type": "code",
   "execution_count": 38,
   "metadata": {},
   "outputs": [
    {
     "data": {
      "text/html": [
       "<ol class=list-inline>\n",
       "\t<li>27889</li>\n",
       "\t<li>29584</li>\n",
       "\t<li>23409</li>\n",
       "\t<li>26896</li>\n",
       "\t<li>33124</li>\n",
       "\t<li>27889</li>\n",
       "\t<li>29241</li>\n",
       "\t<li>24025</li>\n",
       "\t<li>26569</li>\n",
       "\t<li>28900</li>\n",
       "</ol>\n"
      ],
      "text/latex": [
       "\\begin{enumerate*}\n",
       "\\item 27889\n",
       "\\item 29584\n",
       "\\item 23409\n",
       "\\item 26896\n",
       "\\item 33124\n",
       "\\item 27889\n",
       "\\item 29241\n",
       "\\item 24025\n",
       "\\item 26569\n",
       "\\item 28900\n",
       "\\end{enumerate*}\n"
      ],
      "text/markdown": [
       "1. 27889\n",
       "2. 29584\n",
       "3. 23409\n",
       "4. 26896\n",
       "5. 33124\n",
       "6. 27889\n",
       "7. 29241\n",
       "8. 24025\n",
       "9. 26569\n",
       "10. 28900\n",
       "\n",
       "\n"
      ],
      "text/plain": [
       " [1] 27889 29584 23409 26896 33124 27889 29241 24025 26569 28900"
      ]
     },
     "metadata": {},
     "output_type": "display_data"
    }
   ],
   "source": [
    "altura_cm2"
   ]
  },
  {
   "cell_type": "code",
   "execution_count": 39,
   "metadata": {
    "collapsed": true
   },
   "outputs": [],
   "source": [
    "# Combinar objetos: Índice de masa corporal (IMC)\n",
    "  \n",
    "  # El peso de los 10 individuos anteriores\n",
    "  \n",
    "peso <- c(86, 74, 83, 50, 78, 66, 66, 51, 50, 55)"
   ]
  },
  {
   "cell_type": "code",
   "execution_count": 40,
   "metadata": {},
   "outputs": [
    {
     "data": {
      "text/html": [
       "<ol class=list-inline>\n",
       "\t<li>86</li>\n",
       "\t<li>74</li>\n",
       "\t<li>83</li>\n",
       "\t<li>50</li>\n",
       "\t<li>78</li>\n",
       "\t<li>66</li>\n",
       "\t<li>66</li>\n",
       "\t<li>51</li>\n",
       "\t<li>50</li>\n",
       "\t<li>55</li>\n",
       "</ol>\n"
      ],
      "text/latex": [
       "\\begin{enumerate*}\n",
       "\\item 86\n",
       "\\item 74\n",
       "\\item 83\n",
       "\\item 50\n",
       "\\item 78\n",
       "\\item 66\n",
       "\\item 66\n",
       "\\item 51\n",
       "\\item 50\n",
       "\\item 55\n",
       "\\end{enumerate*}\n"
      ],
      "text/markdown": [
       "1. 86\n",
       "2. 74\n",
       "3. 83\n",
       "4. 50\n",
       "5. 78\n",
       "6. 66\n",
       "7. 66\n",
       "8. 51\n",
       "9. 50\n",
       "10. 55\n",
       "\n",
       "\n"
      ],
      "text/plain": [
       " [1] 86 74 83 50 78 66 66 51 50 55"
      ]
     },
     "metadata": {},
     "output_type": "display_data"
    }
   ],
   "source": [
    "peso"
   ]
  },
  {
   "cell_type": "code",
   "execution_count": 41,
   "metadata": {
    "collapsed": true
   },
   "outputs": [],
   "source": [
    " # Objeto con el IMC (peso / altura_mts^2)\n",
    "  \n",
    "imc <- peso/altura_mts^2"
   ]
  },
  {
   "cell_type": "code",
   "execution_count": 42,
   "metadata": {},
   "outputs": [
    {
     "data": {
      "text/html": [
       "<ol class=list-inline>\n",
       "\t<li>30.8365305317509</li>\n",
       "\t<li>25.013520822066</li>\n",
       "\t<li>35.4564483745568</li>\n",
       "\t<li>18.5901249256395</li>\n",
       "\t<li>23.5478806907378</li>\n",
       "\t<li>23.6652443615762</li>\n",
       "\t<li>22.5710475017954</li>\n",
       "\t<li>21.2278876170656</li>\n",
       "\t<li>18.8189243102864</li>\n",
       "\t<li>19.0311418685121</li>\n",
       "</ol>\n"
      ],
      "text/latex": [
       "\\begin{enumerate*}\n",
       "\\item 30.8365305317509\n",
       "\\item 25.013520822066\n",
       "\\item 35.4564483745568\n",
       "\\item 18.5901249256395\n",
       "\\item 23.5478806907378\n",
       "\\item 23.6652443615762\n",
       "\\item 22.5710475017954\n",
       "\\item 21.2278876170656\n",
       "\\item 18.8189243102864\n",
       "\\item 19.0311418685121\n",
       "\\end{enumerate*}\n"
      ],
      "text/markdown": [
       "1. 30.8365305317509\n",
       "2. 25.013520822066\n",
       "3. 35.4564483745568\n",
       "4. 18.5901249256395\n",
       "5. 23.5478806907378\n",
       "6. 23.6652443615762\n",
       "7. 22.5710475017954\n",
       "8. 21.2278876170656\n",
       "9. 18.8189243102864\n",
       "10. 19.0311418685121\n",
       "\n",
       "\n"
      ],
      "text/plain": [
       " [1] 30.83653 25.01352 35.45645 18.59012 23.54788 23.66524 22.57105 21.22789\n",
       " [9] 18.81892 19.03114"
      ]
     },
     "metadata": {},
     "output_type": "display_data"
    }
   ],
   "source": [
    "imc"
   ]
  },
  {
   "cell_type": "code",
   "execution_count": 43,
   "metadata": {
    "collapsed": true
   },
   "outputs": [],
   "source": [
    "# La función round() permite redondear los valores\n",
    "  \n",
    "imc <- round(imc, 2)"
   ]
  },
  {
   "cell_type": "code",
   "execution_count": 44,
   "metadata": {},
   "outputs": [
    {
     "data": {
      "text/html": [
       "<ol class=list-inline>\n",
       "\t<li>30.84</li>\n",
       "\t<li>25.01</li>\n",
       "\t<li>35.46</li>\n",
       "\t<li>18.59</li>\n",
       "\t<li>23.55</li>\n",
       "\t<li>23.67</li>\n",
       "\t<li>22.57</li>\n",
       "\t<li>21.23</li>\n",
       "\t<li>18.82</li>\n",
       "\t<li>19.03</li>\n",
       "</ol>\n"
      ],
      "text/latex": [
       "\\begin{enumerate*}\n",
       "\\item 30.84\n",
       "\\item 25.01\n",
       "\\item 35.46\n",
       "\\item 18.59\n",
       "\\item 23.55\n",
       "\\item 23.67\n",
       "\\item 22.57\n",
       "\\item 21.23\n",
       "\\item 18.82\n",
       "\\item 19.03\n",
       "\\end{enumerate*}\n"
      ],
      "text/markdown": [
       "1. 30.84\n",
       "2. 25.01\n",
       "3. 35.46\n",
       "4. 18.59\n",
       "5. 23.55\n",
       "6. 23.67\n",
       "7. 22.57\n",
       "8. 21.23\n",
       "9. 18.82\n",
       "10. 19.03\n",
       "\n",
       "\n"
      ],
      "text/plain": [
       " [1] 30.84 25.01 35.46 18.59 23.55 23.67 22.57 21.23 18.82 19.03"
      ]
     },
     "metadata": {},
     "output_type": "display_data"
    }
   ],
   "source": [
    "imc # Notar que asigna el valor redondeado de imc al objeto imc. \n",
    "# Así, el objeto imc tendra 2 decimales (ya no 5 como al principio)"
   ]
  },
  {
   "cell_type": "markdown",
   "metadata": {},
   "source": [
    "Vectores con caracteres"
   ]
  },
  {
   "cell_type": "code",
   "execution_count": 45,
   "metadata": {
    "collapsed": true
   },
   "outputs": [],
   "source": [
    "educacion <- c(\"Primaria\", \"Secundaria\", \"Bachillerato\", \"Licenciatura\", \"Maestría\", \"Doctorado\")"
   ]
  },
  {
   "cell_type": "code",
   "execution_count": 47,
   "metadata": {},
   "outputs": [
    {
     "data": {
      "text/html": [
       "'Primaria'"
      ],
      "text/latex": [
       "'Primaria'"
      ],
      "text/markdown": [
       "'Primaria'"
      ],
      "text/plain": [
       "[1] \"Primaria\""
      ]
     },
     "metadata": {},
     "output_type": "display_data"
    }
   ],
   "source": [
    "educacion[5] # Pemiter ver el quito elemento del vector educación"
   ]
  },
  {
   "cell_type": "code",
   "execution_count": null,
   "metadata": {
    "collapsed": true
   },
   "outputs": [],
   "source": [
    "# Matrices\n",
    "  \n",
    "# Convertir al vector altura en a matriz m_altura de 5 filas y 2 columnas. \n",
    "  \n",
    "altura"
   ]
  },
  {
   "cell_type": "code",
   "execution_count": 48,
   "metadata": {
    "collapsed": true
   },
   "outputs": [],
   "source": [
    "m_altura <- matrix(altura,nrow=5,ncol=2, byrow=FALSE)  "
   ]
  },
  {
   "cell_type": "code",
   "execution_count": 50,
   "metadata": {},
   "outputs": [
    {
     "data": {
      "text/html": [
       "<table>\n",
       "<tbody>\n",
       "\t<tr><td>167</td><td>167</td></tr>\n",
       "\t<tr><td>172</td><td>171</td></tr>\n",
       "\t<tr><td>153</td><td>155</td></tr>\n",
       "\t<tr><td>164</td><td>163</td></tr>\n",
       "\t<tr><td>182</td><td>170</td></tr>\n",
       "</tbody>\n",
       "</table>\n"
      ],
      "text/latex": [
       "\\begin{tabular}{ll}\n",
       "\t 167 & 167\\\\\n",
       "\t 172 & 171\\\\\n",
       "\t 153 & 155\\\\\n",
       "\t 164 & 163\\\\\n",
       "\t 182 & 170\\\\\n",
       "\\end{tabular}\n"
      ],
      "text/markdown": [
       "\n",
       "| 167 | 167 | \n",
       "| 172 | 171 | \n",
       "| 153 | 155 | \n",
       "| 164 | 163 | \n",
       "| 182 | 170 | \n",
       "\n",
       "\n"
      ],
      "text/plain": [
       "     [,1] [,2]\n",
       "[1,] 167  167 \n",
       "[2,] 172  171 \n",
       "[3,] 153  155 \n",
       "[4,] 164  163 \n",
       "[5,] 182  170 "
      ]
     },
     "metadata": {},
     "output_type": "display_data"
    },
    {
     "data": {
      "text/html": [
       "<ol class=list-inline>\n",
       "\t<li>167</li>\n",
       "\t<li>172</li>\n",
       "\t<li>153</li>\n",
       "\t<li>164</li>\n",
       "\t<li>182</li>\n",
       "\t<li>167</li>\n",
       "\t<li>171</li>\n",
       "\t<li>155</li>\n",
       "\t<li>163</li>\n",
       "\t<li>170</li>\n",
       "</ol>\n"
      ],
      "text/latex": [
       "\\begin{enumerate*}\n",
       "\\item 167\n",
       "\\item 172\n",
       "\\item 153\n",
       "\\item 164\n",
       "\\item 182\n",
       "\\item 167\n",
       "\\item 171\n",
       "\\item 155\n",
       "\\item 163\n",
       "\\item 170\n",
       "\\end{enumerate*}\n"
      ],
      "text/markdown": [
       "1. 167\n",
       "2. 172\n",
       "3. 153\n",
       "4. 164\n",
       "5. 182\n",
       "6. 167\n",
       "7. 171\n",
       "8. 155\n",
       "9. 163\n",
       "10. 170\n",
       "\n",
       "\n"
      ],
      "text/plain": [
       " [1] 167 172 153 164 182 167 171 155 163 170"
      ]
     },
     "metadata": {},
     "output_type": "display_data"
    }
   ],
   "source": [
    "m_altura  ; altura"
   ]
  },
  {
   "cell_type": "code",
   "execution_count": 53,
   "metadata": {
    "collapsed": true
   },
   "outputs": [],
   "source": [
    "# Notar que el parámetro 'byrow=FALSE' hace que los elementos del vector peso \n",
    "  # sean desplegados verticalmente en la matriz m_altura. Si obtamos por la opción\n",
    "  # 'TRUE', los elementos del vector serán desplegados horizontalmente.   \n",
    "  \n",
    "  m_altura <- matrix(altura,nrow=5,ncol=2, byrow=TRUE) "
   ]
  },
  {
   "cell_type": "code",
   "execution_count": 65,
   "metadata": {},
   "outputs": [
    {
     "data": {
      "text/html": [
       "<table>\n",
       "<tbody>\n",
       "\t<tr><td>167</td><td>172</td><td>153</td><td>164</td><td>182</td></tr>\n",
       "\t<tr><td>167</td><td>171</td><td>155</td><td>163</td><td>170</td></tr>\n",
       "</tbody>\n",
       "</table>\n"
      ],
      "text/latex": [
       "\\begin{tabular}{lllll}\n",
       "\t 167 & 172 & 153 & 164 & 182\\\\\n",
       "\t 167 & 171 & 155 & 163 & 170\\\\\n",
       "\\end{tabular}\n"
      ],
      "text/markdown": [
       "\n",
       "| 167 | 172 | 153 | 164 | 182 | \n",
       "| 167 | 171 | 155 | 163 | 170 | \n",
       "\n",
       "\n"
      ],
      "text/plain": [
       "     [,1] [,2] [,3] [,4] [,5]\n",
       "[1,] 167  172  153  164  182 \n",
       "[2,] 167  171  155  163  170 "
      ]
     },
     "metadata": {},
     "output_type": "display_data"
    },
    {
     "data": {
      "text/html": [
       "<ol class=list-inline>\n",
       "\t<li>167</li>\n",
       "\t<li>172</li>\n",
       "\t<li>153</li>\n",
       "\t<li>164</li>\n",
       "\t<li>182</li>\n",
       "\t<li>167</li>\n",
       "\t<li>171</li>\n",
       "\t<li>155</li>\n",
       "\t<li>163</li>\n",
       "\t<li>170</li>\n",
       "</ol>\n"
      ],
      "text/latex": [
       "\\begin{enumerate*}\n",
       "\\item 167\n",
       "\\item 172\n",
       "\\item 153\n",
       "\\item 164\n",
       "\\item 182\n",
       "\\item 167\n",
       "\\item 171\n",
       "\\item 155\n",
       "\\item 163\n",
       "\\item 170\n",
       "\\end{enumerate*}\n"
      ],
      "text/markdown": [
       "1. 167\n",
       "2. 172\n",
       "3. 153\n",
       "4. 164\n",
       "5. 182\n",
       "6. 167\n",
       "7. 171\n",
       "8. 155\n",
       "9. 163\n",
       "10. 170\n",
       "\n",
       "\n"
      ],
      "text/plain": [
       " [1] 167 172 153 164 182 167 171 155 163 170"
      ]
     },
     "metadata": {},
     "output_type": "display_data"
    }
   ],
   "source": [
    "m_altura ; altura"
   ]
  },
  {
   "cell_type": "code",
   "execution_count": null,
   "metadata": {
    "collapsed": true
   },
   "outputs": [],
   "source": [
    "# Convertir al vector altura en a matriz m_altura de 5 filas y 2 columnas. \n",
    "  \n",
    "peso"
   ]
  },
  {
   "cell_type": "code",
   "execution_count": 55,
   "metadata": {
    "collapsed": true
   },
   "outputs": [],
   "source": [
    "m_peso <- matrix(peso,nrow=2,ncol=5, byrow=FALSE) "
   ]
  },
  {
   "cell_type": "code",
   "execution_count": 56,
   "metadata": {},
   "outputs": [
    {
     "data": {
      "text/html": [
       "<table>\n",
       "<tbody>\n",
       "\t<tr><td>86</td><td>83</td><td>78</td><td>66</td><td>50</td></tr>\n",
       "\t<tr><td>74</td><td>50</td><td>66</td><td>51</td><td>55</td></tr>\n",
       "</tbody>\n",
       "</table>\n"
      ],
      "text/latex": [
       "\\begin{tabular}{lllll}\n",
       "\t 86 & 83 & 78 & 66 & 50\\\\\n",
       "\t 74 & 50 & 66 & 51 & 55\\\\\n",
       "\\end{tabular}\n"
      ],
      "text/markdown": [
       "\n",
       "| 86 | 83 | 78 | 66 | 50 | \n",
       "| 74 | 50 | 66 | 51 | 55 | \n",
       "\n",
       "\n"
      ],
      "text/plain": [
       "     [,1] [,2] [,3] [,4] [,5]\n",
       "[1,] 86   83   78   66   50  \n",
       "[2,] 74   50   66   51   55  "
      ]
     },
     "metadata": {},
     "output_type": "display_data"
    }
   ],
   "source": [
    "m_peso"
   ]
  },
  {
   "cell_type": "code",
   "execution_count": 57,
   "metadata": {},
   "outputs": [
    {
     "data": {
      "text/html": [
       "51"
      ],
      "text/latex": [
       "51"
      ],
      "text/markdown": [
       "51"
      ],
      "text/plain": [
       "[1] 51"
      ]
     },
     "metadata": {},
     "output_type": "display_data"
    }
   ],
   "source": [
    " # Para obtener el ij-esimo elemento de una matriz M se escribe M[i,j].\n",
    "  \n",
    "m_peso[2,4] # Elemento situado en el 2do renglón, 4ta columna de la matriz m_peso"
   ]
  },
  {
   "cell_type": "code",
   "execution_count": 59,
   "metadata": {},
   "outputs": [
    {
     "data": {
      "text/html": [
       "<ol class=list-inline>\n",
       "\t<li>167</li>\n",
       "\t<li>172</li>\n",
       "\t<li>153</li>\n",
       "\t<li>164</li>\n",
       "\t<li>182</li>\n",
       "</ol>\n"
      ],
      "text/latex": [
       "\\begin{enumerate*}\n",
       "\\item 167\n",
       "\\item 172\n",
       "\\item 153\n",
       "\\item 164\n",
       "\\item 182\n",
       "\\end{enumerate*}\n"
      ],
      "text/markdown": [
       "1. 167\n",
       "2. 172\n",
       "3. 153\n",
       "4. 164\n",
       "5. 182\n",
       "\n",
       "\n"
      ],
      "text/plain": [
       "[1] 167 172 153 164 182"
      ]
     },
     "metadata": {},
     "output_type": "display_data"
    }
   ],
   "source": [
    "# Desplegar la i-esima fila de la matriz m_altura\n",
    "  \n",
    "m_altura[1,]  # 2da fila de la matriz m_altura"
   ]
  },
  {
   "cell_type": "code",
   "execution_count": 67,
   "metadata": {},
   "outputs": [
    {
     "data": {
      "text/html": [
       "<table>\n",
       "<tbody>\n",
       "\t<tr><td>167</td><td>172</td><td>153</td><td>164</td><td>182</td></tr>\n",
       "\t<tr><td>167</td><td>171</td><td>155</td><td>163</td><td>170</td></tr>\n",
       "</tbody>\n",
       "</table>\n"
      ],
      "text/latex": [
       "\\begin{tabular}{lllll}\n",
       "\t 167 & 172 & 153 & 164 & 182\\\\\n",
       "\t 167 & 171 & 155 & 163 & 170\\\\\n",
       "\\end{tabular}\n"
      ],
      "text/markdown": [
       "\n",
       "| 167 | 172 | 153 | 164 | 182 | \n",
       "| 167 | 171 | 155 | 163 | 170 | \n",
       "\n",
       "\n"
      ],
      "text/plain": [
       "     [,1] [,2] [,3] [,4] [,5]\n",
       "[1,] 167  172  153  164  182 \n",
       "[2,] 167  171  155  163  170 "
      ]
     },
     "metadata": {},
     "output_type": "display_data"
    }
   ],
   "source": [
    "m_altura"
   ]
  },
  {
   "cell_type": "code",
   "execution_count": 64,
   "metadata": {},
   "outputs": [
    {
     "data": {
      "text/html": [
       "<ol class=list-inline>\n",
       "\t<li>86</li>\n",
       "\t<li>74</li>\n",
       "</ol>\n"
      ],
      "text/latex": [
       "\\begin{enumerate*}\n",
       "\\item 86\n",
       "\\item 74\n",
       "\\end{enumerate*}\n"
      ],
      "text/markdown": [
       "1. 86\n",
       "2. 74\n",
       "\n",
       "\n"
      ],
      "text/plain": [
       "[1] 86 74"
      ]
     },
     "metadata": {},
     "output_type": "display_data"
    }
   ],
   "source": [
    "# Desplegar la j-esima columna de m_peso\n",
    "  \n",
    "m_peso[,1]  # 5ta columna de la matriz m_peso"
   ]
  },
  {
   "cell_type": "code",
   "execution_count": 68,
   "metadata": {},
   "outputs": [
    {
     "data": {
      "text/html": [
       "<ol class=list-inline>\n",
       "\t<li>171</li>\n",
       "\t<li>155</li>\n",
       "\t<li>163</li>\n",
       "</ol>\n"
      ],
      "text/latex": [
       "\\begin{enumerate*}\n",
       "\\item 171\n",
       "\\item 155\n",
       "\\item 163\n",
       "\\end{enumerate*}\n"
      ],
      "text/markdown": [
       "1. 171\n",
       "2. 155\n",
       "3. 163\n",
       "\n",
       "\n"
      ],
      "text/plain": [
       "[1] 171 155 163"
      ]
     },
     "metadata": {},
     "output_type": "display_data"
    }
   ],
   "source": [
    "# Desplegar los elementos de la columna j contenidos entre las filas r y s de M  \n",
    "  \n",
    "m_altura[2,2:4]  # Elementos de la columna 2 contenidos entre las filas 2 y 4 de la matriz m_altura\n",
    "  "
   ]
  },
  {
   "cell_type": "markdown",
   "metadata": {
    "collapsed": true
   },
   "source": [
    "Factor"
   ]
  },
  {
   "cell_type": "code",
   "execution_count": 69,
   "metadata": {
    "collapsed": true
   },
   "outputs": [],
   "source": [
    "#Objeto que almacena el valor de una variable nominal. Ejemplo: sexo, colores, ...\n",
    "  \n",
    "sexo <- factor(c(\"Hombre\", \"Hombre\", \"Mujer\", \"Mujer\", \"Hombre\")) "
   ]
  },
  {
   "cell_type": "code",
   "execution_count": 70,
   "metadata": {},
   "outputs": [
    {
     "data": {
      "text/html": [
       "<dl class=dl-horizontal>\n",
       "\t<dt>Hombre</dt>\n",
       "\t\t<dd>3</dd>\n",
       "\t<dt>Mujer</dt>\n",
       "\t\t<dd>2</dd>\n",
       "</dl>\n"
      ],
      "text/latex": [
       "\\begin{description*}\n",
       "\\item[Hombre] 3\n",
       "\\item[Mujer] 2\n",
       "\\end{description*}\n"
      ],
      "text/markdown": [
       "Hombre\n",
       ":   3Mujer\n",
       ":   2\n",
       "\n"
      ],
      "text/plain": [
       "Hombre  Mujer \n",
       "     3      2 "
      ]
     },
     "metadata": {},
     "output_type": "display_data"
    }
   ],
   "source": [
    "summary(sexo)  "
   ]
  },
  {
   "cell_type": "markdown",
   "metadata": {},
   "source": [
    "data.frame\n",
    "  \n",
    "Es más general que una matriz. Las columnas pueden tener diferentes clases de objetos\n",
    "(numéricos, caracteres, factores, etc)"
   ]
  },
  {
   "cell_type": "code",
   "execution_count": 71,
   "metadata": {
    "collapsed": true
   },
   "outputs": [],
   "source": [
    "datos <- data.frame(c(0,1),c(\"Rojo\", \"Amarillo\"), c(TRUE,FALSE)) "
   ]
  },
  {
   "cell_type": "code",
   "execution_count": 75,
   "metadata": {},
   "outputs": [
    {
     "data": {
      "text/html": [
       "<table>\n",
       "<thead><tr><th scope=col>X1</th><th scope=col>X2</th><th scope=col>X3</th></tr></thead>\n",
       "<tbody>\n",
       "\t<tr><td>0       </td><td>Rojo    </td><td> TRUE   </td></tr>\n",
       "\t<tr><td>1       </td><td>Amarillo</td><td>FALSE   </td></tr>\n",
       "</tbody>\n",
       "</table>\n"
      ],
      "text/latex": [
       "\\begin{tabular}{r|lll}\n",
       " X1 & X2 & X3\\\\\n",
       "\\hline\n",
       "\t 0        & Rojo     &  TRUE   \\\\\n",
       "\t 1        & Amarillo & FALSE   \\\\\n",
       "\\end{tabular}\n"
      ],
      "text/markdown": [
       "\n",
       "X1 | X2 | X3 | \n",
       "|---|---|\n",
       "| 0        | Rojo     |  TRUE    | \n",
       "| 1        | Amarillo | FALSE    | \n",
       "\n",
       "\n"
      ],
      "text/plain": [
       "  X1 X2       X3   \n",
       "1 0  Rojo      TRUE\n",
       "2 1  Amarillo FALSE"
      ]
     },
     "metadata": {},
     "output_type": "display_data"
    }
   ],
   "source": [
    "datos"
   ]
  },
  {
   "cell_type": "code",
   "execution_count": null,
   "metadata": {
    "collapsed": true
   },
   "outputs": [],
   "source": [
    "View(datos)"
   ]
  },
  {
   "cell_type": "code",
   "execution_count": 72,
   "metadata": {
    "collapsed": true
   },
   "outputs": [],
   "source": [
    "names(datos) <- c(\"X1\",\"X2\",\"X3\")"
   ]
  },
  {
   "cell_type": "code",
   "execution_count": null,
   "metadata": {
    "collapsed": true
   },
   "outputs": [],
   "source": [
    "View(datos)"
   ]
  },
  {
   "cell_type": "markdown",
   "metadata": {
    "collapsed": true
   },
   "source": [
    "Atributos de los objetos\n",
    "  \n",
    "Todo objeto tiene dos atributos intrínsecos: tipo y longitud.\n",
    "  \n",
    "El tipo se refiere a la clase básica de los elementos en el objeto (numérico, caracter, lógico)\n",
    "La longitud es el número de elementos en el objeto."
   ]
  },
  {
   "cell_type": "code",
   "execution_count": 73,
   "metadata": {},
   "outputs": [
    {
     "data": {
      "text/html": [
       "'numeric'"
      ],
      "text/latex": [
       "'numeric'"
      ],
      "text/markdown": [
       "'numeric'"
      ],
      "text/plain": [
       "[1] \"numeric\""
      ]
     },
     "metadata": {},
     "output_type": "display_data"
    },
    {
     "data": {
      "text/html": [
       "'numeric'"
      ],
      "text/latex": [
       "'numeric'"
      ],
      "text/markdown": [
       "'numeric'"
      ],
      "text/plain": [
       "[1] \"numeric\""
      ]
     },
     "metadata": {},
     "output_type": "display_data"
    },
    {
     "data": {
      "text/html": [
       "'list'"
      ],
      "text/latex": [
       "'list'"
      ],
      "text/markdown": [
       "'list'"
      ],
      "text/plain": [
       "[1] \"list\""
      ]
     },
     "metadata": {},
     "output_type": "display_data"
    }
   ],
   "source": [
    " # Tipo  \n",
    "  mode(peso)       ;\n",
    "  mode(m_altura)   ; \n",
    "  mode(datos)      ; "
   ]
  },
  {
   "cell_type": "code",
   "execution_count": 74,
   "metadata": {},
   "outputs": [
    {
     "data": {
      "text/html": [
       "10"
      ],
      "text/latex": [
       "10"
      ],
      "text/markdown": [
       "10"
      ],
      "text/plain": [
       "[1] 10"
      ]
     },
     "metadata": {},
     "output_type": "display_data"
    },
    {
     "data": {
      "text/html": [
       "10"
      ],
      "text/latex": [
       "10"
      ],
      "text/markdown": [
       "10"
      ],
      "text/plain": [
       "[1] 10"
      ]
     },
     "metadata": {},
     "output_type": "display_data"
    },
    {
     "data": {
      "text/html": [
       "3"
      ],
      "text/latex": [
       "3"
      ],
      "text/markdown": [
       "3"
      ],
      "text/plain": [
       "[1] 3"
      ]
     },
     "metadata": {},
     "output_type": "display_data"
    }
   ],
   "source": [
    " # Longitud  \n",
    "  length(peso)      ;\n",
    "  length(m_altura)  ;\n",
    "  length(datos)     ;"
   ]
  },
  {
   "cell_type": "markdown",
   "metadata": {},
   "source": [
    "Ejercicio. \n",
    "Crear un data.frame con nuestros datos sobre edad, estatura, sexo, municipio de residencia"
   ]
  }
 ],
 "metadata": {
  "kernelspec": {
   "display_name": "R",
   "language": "R",
   "name": "ir"
  },
  "language_info": {
   "codemirror_mode": "r",
   "file_extension": ".r",
   "mimetype": "text/x-r-source",
   "name": "R",
   "pygments_lexer": "r",
   "version": "3.3.2"
  }
 },
 "nbformat": 4,
 "nbformat_minor": 2
}
